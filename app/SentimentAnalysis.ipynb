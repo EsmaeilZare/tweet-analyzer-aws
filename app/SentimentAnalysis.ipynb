{
 "cells": [
  {
   "cell_type": "code",
   "execution_count": 5,
   "id": "6051d5f2-58d7-4c93-bd95-927e9aae2a4a",
   "metadata": {},
   "outputs": [],
   "source": [
    "import os\n",
    "import pandas as pd\n",
    "import nltk\n",
    "from nltk.sentiment.vader import SentimentIntensityAnalyzer"
   ]
  },
  {
   "cell_type": "code",
   "execution_count": 13,
   "id": "082d1192-4ea0-4b97-a825-5dde8c8b4a7c",
   "metadata": {},
   "outputs": [
    {
     "name": "stderr",
     "output_type": "stream",
     "text": [
      "/Users/brauliovillalobos/opt/anaconda3/lib/python3.8/site-packages/scipy/__init__.py:146: UserWarning: A NumPy version >=1.16.5 and <1.23.0 is required for this version of SciPy (detected version 1.23.0\n",
      "  warnings.warn(f\"A NumPy version >={np_minversion} and <{np_maxversion}\"\n",
      "[nltk_data] Downloading package vader_lexicon to\n",
      "[nltk_data]     /Users/brauliovillalobos/nltk_data...\n",
      "[nltk_data]   Package vader_lexicon is already up-to-date!\n"
     ]
    },
    {
     "data": {
      "text/plain": [
       "True"
      ]
     },
     "execution_count": 13,
     "metadata": {},
     "output_type": "execute_result"
    }
   ],
   "source": [
    "nltk.download(\"vader_lexicon\")"
   ]
  },
  {
   "cell_type": "code",
   "execution_count": 14,
   "id": "fb9ee9d7-b7e4-41cb-bd63-a03321d87b12",
   "metadata": {},
   "outputs": [],
   "source": [
    "#Instantiating the analyzer\n",
    "analyzer = SentimentIntensityAnalyzer()\n",
    "\n",
    "#Pass tweets to vader and put 1 if positive, 0 if negative.\n",
    "def vader_sentiment_result(sent):\n",
    "    scores = analyzer.polarity_scores(sent)\n",
    "    \n",
    "    if scores[\"neg\"] > scores[\"pos\"]:\n",
    "        return 0\n",
    "\n",
    "    return 1"
   ]
  },
  {
   "cell_type": "code",
   "execution_count": 24,
   "id": "002ea33a-cec2-40f3-9afa-f21138afc367",
   "metadata": {},
   "outputs": [],
   "source": [
    "#Import data\n",
    "tweets_1 = pd.read_csv(\"/Users/brauliovillalobos/Documents/Data_Science_Master_Degree_Sapienza_2021_2023/II_Semester/CLC/project/All_tweets.csv\", nrows=5000)"
   ]
  },
  {
   "cell_type": "code",
   "execution_count": 25,
   "id": "fdbd31ea-370f-487c-9a26-6fd9e22e38d2",
   "metadata": {},
   "outputs": [
    {
     "data": {
      "text/html": [
       "<div>\n",
       "<style scoped>\n",
       "    .dataframe tbody tr th:only-of-type {\n",
       "        vertical-align: middle;\n",
       "    }\n",
       "\n",
       "    .dataframe tbody tr th {\n",
       "        vertical-align: top;\n",
       "    }\n",
       "\n",
       "    .dataframe thead th {\n",
       "        text-align: right;\n",
       "    }\n",
       "</style>\n",
       "<table border=\"1\" class=\"dataframe\">\n",
       "  <thead>\n",
       "    <tr style=\"text-align: right;\">\n",
       "      <th></th>\n",
       "      <th>Tweet_text</th>\n",
       "    </tr>\n",
       "  </thead>\n",
       "  <tbody>\n",
       "    <tr>\n",
       "      <th>0</th>\n",
       "      <td>As sun and cloud give way to moon and shadow, ...</td>\n",
       "    </tr>\n",
       "    <tr>\n",
       "      <th>1</th>\n",
       "      <td>Down in the comfort of strangers, I...</td>\n",
       "    </tr>\n",
       "    <tr>\n",
       "      <th>2</th>\n",
       "      <td>Im laughing more than i should #USA</td>\n",
       "    </tr>\n",
       "    <tr>\n",
       "      <th>3</th>\n",
       "      <td>No, I'm not saying I'm sorry</td>\n",
       "    </tr>\n",
       "    <tr>\n",
       "      <th>4</th>\n",
       "      <td>Laugh it all off in your face</td>\n",
       "    </tr>\n",
       "  </tbody>\n",
       "</table>\n",
       "</div>"
      ],
      "text/plain": [
       "                                          Tweet_text\n",
       "0  As sun and cloud give way to moon and shadow, ...\n",
       "1             Down in the comfort of strangers, I...\n",
       "2                Im laughing more than i should #USA\n",
       "3                       No, I'm not saying I'm sorry\n",
       "4                      Laugh it all off in your face"
      ]
     },
     "execution_count": 25,
     "metadata": {},
     "output_type": "execute_result"
    }
   ],
   "source": [
    "tweets_1.head()"
   ]
  },
  {
   "cell_type": "code",
   "execution_count": 26,
   "id": "5d211dfc-0f49-4889-a035-3dd39e274235",
   "metadata": {},
   "outputs": [],
   "source": [
    "#Apply the vader analyzer \n",
    "tweets_1[\"vader_result\"] = tweets_1[\"Tweet_text\"].apply(lambda x: vader_sentiment_result(x))"
   ]
  },
  {
   "cell_type": "code",
   "execution_count": 28,
   "id": "47ae4ac6-d24f-4b84-9608-dee54f91d3bc",
   "metadata": {},
   "outputs": [
    {
     "data": {
      "text/html": [
       "<div>\n",
       "<style scoped>\n",
       "    .dataframe tbody tr th:only-of-type {\n",
       "        vertical-align: middle;\n",
       "    }\n",
       "\n",
       "    .dataframe tbody tr th {\n",
       "        vertical-align: top;\n",
       "    }\n",
       "\n",
       "    .dataframe thead th {\n",
       "        text-align: right;\n",
       "    }\n",
       "</style>\n",
       "<table border=\"1\" class=\"dataframe\">\n",
       "  <thead>\n",
       "    <tr style=\"text-align: right;\">\n",
       "      <th></th>\n",
       "      <th>Tweet_text</th>\n",
       "      <th>vader_result</th>\n",
       "    </tr>\n",
       "  </thead>\n",
       "  <tbody>\n",
       "    <tr>\n",
       "      <th>0</th>\n",
       "      <td>As sun and cloud give way to moon and shadow, ...</td>\n",
       "      <td>1</td>\n",
       "    </tr>\n",
       "    <tr>\n",
       "      <th>1</th>\n",
       "      <td>Down in the comfort of strangers, I...</td>\n",
       "      <td>1</td>\n",
       "    </tr>\n",
       "    <tr>\n",
       "      <th>2</th>\n",
       "      <td>Im laughing more than i should #USA</td>\n",
       "      <td>1</td>\n",
       "    </tr>\n",
       "    <tr>\n",
       "      <th>3</th>\n",
       "      <td>No, I'm not saying I'm sorry</td>\n",
       "      <td>0</td>\n",
       "    </tr>\n",
       "    <tr>\n",
       "      <th>4</th>\n",
       "      <td>Laugh it all off in your face</td>\n",
       "      <td>1</td>\n",
       "    </tr>\n",
       "    <tr>\n",
       "      <th>...</th>\n",
       "      <td>...</td>\n",
       "      <td>...</td>\n",
       "    </tr>\n",
       "    <tr>\n",
       "      <th>4995</th>\n",
       "      <td>Been Public Enemy since you thought PE was gym...</td>\n",
       "      <td>0</td>\n",
       "    </tr>\n",
       "    <tr>\n",
       "      <th>4996</th>\n",
       "      <td>@TheOnion The Onion, Do you really think that ...</td>\n",
       "      <td>1</td>\n",
       "    </tr>\n",
       "    <tr>\n",
       "      <th>4997</th>\n",
       "      <td>He put the bottle to his head and pulled the t...</td>\n",
       "      <td>0</td>\n",
       "    </tr>\n",
       "    <tr>\n",
       "      <th>4998</th>\n",
       "      <td>RT @IlikeBIGbuttand: Don't do the dishes #Surv...</td>\n",
       "      <td>1</td>\n",
       "    </tr>\n",
       "    <tr>\n",
       "      <th>4999</th>\n",
       "      <td>I miss getting texts from you.</td>\n",
       "      <td>0</td>\n",
       "    </tr>\n",
       "  </tbody>\n",
       "</table>\n",
       "<p>5000 rows × 2 columns</p>\n",
       "</div>"
      ],
      "text/plain": [
       "                                             Tweet_text  vader_result\n",
       "0     As sun and cloud give way to moon and shadow, ...             1\n",
       "1                Down in the comfort of strangers, I...             1\n",
       "2                   Im laughing more than i should #USA             1\n",
       "3                          No, I'm not saying I'm sorry             0\n",
       "4                         Laugh it all off in your face             1\n",
       "...                                                 ...           ...\n",
       "4995  Been Public Enemy since you thought PE was gym...             0\n",
       "4996  @TheOnion The Onion, Do you really think that ...             1\n",
       "4997  He put the bottle to his head and pulled the t...             0\n",
       "4998  RT @IlikeBIGbuttand: Don't do the dishes #Surv...             1\n",
       "4999                     I miss getting texts from you.             0\n",
       "\n",
       "[5000 rows x 2 columns]"
      ]
     },
     "execution_count": 28,
     "metadata": {},
     "output_type": "execute_result"
    }
   ],
   "source": [
    "tweets_1"
   ]
  },
  {
   "cell_type": "code",
   "execution_count": 23,
   "id": "1512bbd7-0c13-4903-91e1-2cf2888d4a3a",
   "metadata": {},
   "outputs": [
    {
     "data": {
      "text/html": [
       "<div>\n",
       "<style scoped>\n",
       "    .dataframe tbody tr th:only-of-type {\n",
       "        vertical-align: middle;\n",
       "    }\n",
       "\n",
       "    .dataframe tbody tr th {\n",
       "        vertical-align: top;\n",
       "    }\n",
       "\n",
       "    .dataframe thead th {\n",
       "        text-align: right;\n",
       "    }\n",
       "</style>\n",
       "<table border=\"1\" class=\"dataframe\">\n",
       "  <thead>\n",
       "    <tr style=\"text-align: right;\">\n",
       "      <th></th>\n",
       "      <th>Tweet_text</th>\n",
       "      <th>vader_result</th>\n",
       "    </tr>\n",
       "  </thead>\n",
       "  <tbody>\n",
       "    <tr>\n",
       "      <th>0</th>\n",
       "      <td>As sun and cloud give way to moon and shadow, ...</td>\n",
       "      <td>1</td>\n",
       "    </tr>\n",
       "    <tr>\n",
       "      <th>1</th>\n",
       "      <td>Down in the comfort of strangers, I...</td>\n",
       "      <td>1</td>\n",
       "    </tr>\n",
       "  </tbody>\n",
       "</table>\n",
       "</div>"
      ],
      "text/plain": [
       "                                          Tweet_text  vader_result\n",
       "0  As sun and cloud give way to moon and shadow, ...             1\n",
       "1             Down in the comfort of strangers, I...             1"
      ]
     },
     "execution_count": 23,
     "metadata": {},
     "output_type": "execute_result"
    }
   ],
   "source": [
    "tweets[:2]"
   ]
  }
 ],
 "metadata": {
  "kernelspec": {
   "display_name": "Python 3 (ipykernel)",
   "language": "python",
   "name": "python3"
  },
  "language_info": {
   "codemirror_mode": {
    "name": "ipython",
    "version": 3
   },
   "file_extension": ".py",
   "mimetype": "text/x-python",
   "name": "python",
   "nbconvert_exporter": "python",
   "pygments_lexer": "ipython3",
   "version": "3.8.8"
  }
 },
 "nbformat": 4,
 "nbformat_minor": 5
}
